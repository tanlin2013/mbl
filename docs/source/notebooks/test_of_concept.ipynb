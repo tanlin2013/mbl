{
 "cells": [
  {
   "cell_type": "code",
   "execution_count": null,
   "metadata": {},
   "outputs": [],
   "source": [
    "import sys\n",
    "from itertools import product, permutations\n",
    "\n",
    "import numpy as np\n",
    "import pandas as pd\n",
    "from scipy.linalg import logm, eigh\n",
    "import matplotlib.pyplot as plt\n",
    "import networkx as nx\n",
    "from sklearn.cluster import SpectralClustering\n",
    "import plotly.express as px\n",
    "\n",
    "from tnpy.operators import SpinOperators, FullHamiltonian\n",
    "from tnpy.model import Model1D, TotalSz\n",
    "from tnpy.model.utils import boundary_vectors, minors_if_no_penalty\n",
    "from tnpy.exact_diagonalization import ExactDiagonalization\n",
    "\n",
    "np.set_printoptions(suppress=True, threshold=sys.maxsize, linewidth=sys.maxsize)"
   ]
  },
  {
   "cell_type": "markdown",
   "metadata": {},
   "source": [
    "## Heisenberg model with random field"
   ]
  },
  {
   "cell_type": "code",
   "execution_count": null,
   "metadata": {},
   "outputs": [],
   "source": [
    "class RandomHeisenberg(Model1D):\n",
    "    def __init__(\n",
    "        self,\n",
    "        n: int,\n",
    "        h: float,\n",
    "        jt: float = 1,\n",
    "        jz: float = 1,\n",
    "        penalty: float = 0,\n",
    "        s_target: int = 0,\n",
    "        offset: float = 0,\n",
    "        trial_id: str = None,\n",
    "        seed: int = None,\n",
    "    ):\n",
    "        super().__init__(n)\n",
    "        self._h = h\n",
    "        self._jt = jt\n",
    "        self._jz = jz\n",
    "        self._penalty = penalty\n",
    "        self._s_target = s_target\n",
    "        self._offset = offset\n",
    "        self._trial_id = trial_id\n",
    "        self._seed = seed\n",
    "        rng = np.random.RandomState(self.seed)\n",
    "        self._random_sequence = rng.uniform(-self.h, self.h, size=self.n)\n",
    "\n",
    "    @property\n",
    "    def h(self) -> float:\n",
    "        return self._h\n",
    "\n",
    "    @property\n",
    "    def jt(self) -> float:\n",
    "        return self._jt\n",
    "\n",
    "    @property\n",
    "    def jz(self) -> float:\n",
    "        return self._jz\n",
    "\n",
    "    @property\n",
    "    def penalty(self) -> float:\n",
    "        return self._penalty\n",
    "\n",
    "    @property\n",
    "    def s_target(self) -> int:\n",
    "        return self._s_target\n",
    "\n",
    "    @property\n",
    "    def offset(self) -> float:\n",
    "        return self._offset\n",
    "\n",
    "    @offset.setter\n",
    "    def offset(self, offset: float):\n",
    "        self._offset = offset\n",
    "\n",
    "    @property\n",
    "    def trial_id(self) -> str:\n",
    "        return self._trial_id\n",
    "\n",
    "    @boundary_vectors(row=0, col=-1)\n",
    "    @minors_if_no_penalty(row=3, col=3)\n",
    "    def _elem(self, site: int) -> np.ndarray:\n",
    "        Sp, Sm, Sz, I2, O2 = SpinOperators()\n",
    "\n",
    "        alpha = (\n",
    "            self.penalty * (0.25 + self.s_target**2 / self.n) - self.offset / self.n\n",
    "        )\n",
    "        beta = self._random_sequence[site] - 2.0 * self.penalty * self.s_target\n",
    "\n",
    "        return np.array(\n",
    "            [\n",
    "                [\n",
    "                    I2,\n",
    "                    0.5 * self.jt * Sp,\n",
    "                    0.5 * self.jt * Sm,\n",
    "                    2.0 * self.penalty * Sz,\n",
    "                    self.jz * Sz,\n",
    "                    alpha * I2 + beta * Sz,\n",
    "                ],\n",
    "                [O2, O2, O2, O2, O2, Sm],\n",
    "                [O2, O2, O2, O2, O2, Sp],\n",
    "                [O2, O2, O2, I2, O2, Sz],\n",
    "                [O2, O2, O2, O2, O2, Sz],\n",
    "                [O2, O2, O2, O2, O2, I2],\n",
    "            ],\n",
    "            dtype=float,\n",
    "        )\n",
    "\n",
    "    @property\n",
    "    def seed(self) -> int:\n",
    "        return self._seed\n",
    "\n",
    "    @seed.setter\n",
    "    def seed(self, seed: int) -> None:\n",
    "        self._seed = seed\n",
    "        rng = np.random.RandomState(self.seed)\n",
    "        self._random_sequence = rng.uniform(-self.h, self.h, size=self.n)"
   ]
  },
  {
   "cell_type": "markdown",
   "metadata": {},
   "source": [
    "## Exact diagonalization"
   ]
  },
  {
   "cell_type": "code",
   "execution_count": null,
   "metadata": {},
   "outputs": [],
   "source": [
    "system_size = 4\n",
    "model = RandomHeisenberg(n=system_size, jt=1, jz=1, h=1.0, seed=1993)\n",
    "ed = ExactDiagonalization(model.mpo)\n",
    "\n",
    "# print(ed.matrix, \"\\n\")\n",
    "# print(ed.evals,  \"\\n\")\n",
    "# print(ed.evecs,  \"\\n\")"
   ]
  },
  {
   "cell_type": "markdown",
   "metadata": {},
   "source": [
    "## Resolvent"
   ]
  },
  {
   "cell_type": "code",
   "execution_count": null,
   "metadata": {},
   "outputs": [],
   "source": [
    "inv_mat = np.linalg.inv(-1 * ed.matrix)\n",
    "\n",
    "print(inv_mat, \"\\n\")\n",
    "print(np.reciprocal(np.diag(inv_mat)))"
   ]
  },
  {
   "cell_type": "markdown",
   "metadata": {},
   "source": [
    "## Bipartite entanglement entropy"
   ]
  },
  {
   "cell_type": "code",
   "execution_count": null,
   "metadata": {},
   "outputs": [],
   "source": [
    "entropy = np.array(\n",
    "            [\n",
    "                ed.entanglement_entropy(ed.n_sites // 2, level_idx)\n",
    "                for level_idx in range(len(ed.matrix))\n",
    "            ]\n",
    "        )\n",
    "\n",
    "print(entropy)"
   ]
  },
  {
   "cell_type": "markdown",
   "metadata": {},
   "source": [
    "## Spin sector"
   ]
  },
  {
   "cell_type": "code",
   "execution_count": null,
   "metadata": {},
   "outputs": [],
   "source": [
    "_total_sz = FullHamiltonian(TotalSz(model.n).mpo).matrix\n",
    "spin_sector = np.diag(ed.evecs.T @ _total_sz @ ed.evecs)\n",
    "\n",
    "print(spin_sector)"
   ]
  },
  {
   "cell_type": "markdown",
   "metadata": {},
   "source": [
    "## The standard Rayleigh-Ritz procedure"
   ]
  },
  {
   "cell_type": "code",
   "execution_count": null,
   "metadata": {},
   "outputs": [],
   "source": [
    "u = np.array([[1, 0]])\n",
    "d = np.array([[0, 1]])\n",
    "\n",
    "def kron_product(ls):\n",
    "    if not ls:\n",
    "        return 1\n",
    "\n",
    "    return np.kron(ls[0], kron_product(ls[1:]))\n",
    "\n",
    "# for elem in product([u, d], repeat=model.n):\n",
    "#     print(kron_product(elem))\n"
   ]
  },
  {
   "cell_type": "code",
   "execution_count": null,
   "metadata": {},
   "outputs": [],
   "source": [
    "spin_zero_sequence = \"{}{}\".format(\"u\" * (model.n // 2), \"d\" * (model.n // 2))\n",
    "spin_zero_permutations = sorted(set(list(permutations(spin_zero_sequence, model.n))))\n",
    "spin_map = {\n",
    "    \"u\": u,\n",
    "    \"d\": d\n",
    "}\n",
    "\n",
    "zero_charge_basis = [kron_product(list(map(spin_map.get, elem))) for elem in spin_zero_permutations]\n",
    "proj = np.hstack(tuple(map(np.transpose, zero_charge_basis)))\n",
    "\n",
    "# print(zero_charge_basis)\n",
    "# print(proj)"
   ]
  },
  {
   "cell_type": "code",
   "execution_count": null,
   "metadata": {},
   "outputs": [],
   "source": [
    "idendity = np.eye(2 ** 4)\n",
    "\n",
    "# for i in range(4):\n",
    "#     print(i, idendity.shape)\n",
    "#     idendity = idendity.reshape(2, 2 ** ((4 - i - 1) + 4))\n",
    "#     q, idendity = np.linalg.qr(idendity)\n",
    "#     print(q, idendity)"
   ]
  },
  {
   "cell_type": "code",
   "execution_count": null,
   "metadata": {},
   "outputs": [],
   "source": [
    "# zero_charge_basis = [\n",
    "#     [u, u, d, d],\n",
    "#     [u, d, u, d],\n",
    "#     [u, d, d, u],\n",
    "#     [d, u, u, d],\n",
    "#     [d, u, d, u],\n",
    "#     [d, d, u, u]\n",
    "# ]\n",
    "\n",
    "# proj = np.hstack(tuple(map(np.transpose, tuple(map(kron_product, zero_charge_basis)))))\n",
    "\n",
    "reduced_mat = proj.T @ ed.matrix @ proj\n",
    "evals, evecs = np.linalg.eigh(reduced_mat)\n",
    "\n",
    "# print(ed.matrix, \"\\n\")\n",
    "# print(reduced_mat, \"\\n\")\n",
    "# print(evals, \"\\n\")\n",
    "# print(proj @ evecs, \"\\n\")"
   ]
  },
  {
   "cell_type": "code",
   "execution_count": null,
   "metadata": {},
   "outputs": [],
   "source": [
    "print([np.linalg.norm((ed.matrix - eval * np.eye(2 ** model.n)) @ proj @ evecs[:, idx]) for idx, eval in enumerate(evals)], \"\\n\")\n",
    "print(ed.evals, \"\\n\")\n",
    "print(ed.evecs, \"\\n\")"
   ]
  },
  {
   "cell_type": "code",
   "execution_count": null,
   "metadata": {},
   "outputs": [],
   "source": [
    "plt.matshow(ed.matrix)\n",
    "plt.colorbar()\n",
    "plt.matshow(reduced_mat)\n",
    "plt.colorbar()\n",
    "\n",
    "evecs = proj @ evecs\n",
    "plt.matshow(evecs[:, 0:1] @ evecs[:, 0:1].T)\n",
    "plt.colorbar()"
   ]
  },
  {
   "cell_type": "markdown",
   "metadata": {},
   "source": [
    "## Spectral clustering"
   ]
  },
  {
   "cell_type": "code",
   "execution_count": null,
   "metadata": {},
   "outputs": [],
   "source": [
    "diag = np.diagonal(reduced_mat)\n",
    "off_diag = reduced_mat - np.diagflat(diag)\n",
    "affinity = np.nan_to_num(off_diag * np.reciprocal(np.abs(diag[:, None] - diag)))\n",
    "affinity = affinity / np.linalg.norm(affinity)\n",
    "affinity_evals, affinity_evecs = np.linalg.eigh(affinity)\n",
    "\n",
    "print(reduced_mat)\n",
    "print(affinity)"
   ]
  },
  {
   "cell_type": "code",
   "execution_count": null,
   "metadata": {},
   "outputs": [],
   "source": [
    "degree_mat = np.diagflat(np.sum(affinity, axis=0))\n",
    "laplacian = degree_mat - affinity\n",
    "lap_evals, lap_evecs = np.linalg.eigh(laplacian)\n",
    "\n",
    "print(degree_mat)\n",
    "print(laplacian)\n",
    "print(lap_evals)\n",
    "print(lap_evecs)\n",
    "\n",
    "# Kirchhoff’s matrix-tree theorem\n",
    "print(1/len(lap_evals) * np.prod(lap_evals[1:]))"
   ]
  },
  {
   "cell_type": "code",
   "execution_count": null,
   "metadata": {},
   "outputs": [],
   "source": [
    "plt.matshow(reduced_mat)\n",
    "plt.colorbar()\n",
    "plt.matshow(affinity)\n",
    "plt.colorbar()\n",
    "plt.matshow(laplacian)\n",
    "plt.colorbar()"
   ]
  },
  {
   "cell_type": "code",
   "execution_count": null,
   "metadata": {},
   "outputs": [],
   "source": [
    "evals, evecs = np.linalg.eigh(reduced_mat)\n",
    "affinity_evals, affinity_evecs = np.linalg.eigh(affinity)\n",
    "\n",
    "print(evals, \"\\n\")\n",
    "print(evecs, \"\\n\")\n",
    "print(affinity_evals, \"\\n\")\n",
    "print(affinity_evecs, \"\\n\")"
   ]
  },
  {
   "cell_type": "markdown",
   "metadata": {},
   "source": [
    "## Graph with NetworkX"
   ]
  },
  {
   "cell_type": "code",
   "execution_count": null,
   "metadata": {},
   "outputs": [],
   "source": [
    "full_ham_graph = nx.from_numpy_array(ed.matrix)\n",
    "nx.draw(full_ham_graph, with_labels=True)\n",
    "print(nx.clustering(full_ham_graph))"
   ]
  },
  {
   "cell_type": "code",
   "execution_count": null,
   "metadata": {},
   "outputs": [],
   "source": [
    "ham_graph = nx.from_numpy_array(reduced_mat)\n",
    "nx.draw(ham_graph, with_labels=True)"
   ]
  },
  {
   "cell_type": "code",
   "execution_count": null,
   "metadata": {},
   "outputs": [],
   "source": [
    "graph = nx.from_numpy_array(affinity)\n",
    "nx.draw(graph, with_labels=True)"
   ]
  },
  {
   "cell_type": "code",
   "execution_count": null,
   "metadata": {},
   "outputs": [],
   "source": [
    "nx.draw_spectral(graph, with_labels=True)"
   ]
  },
  {
   "cell_type": "code",
   "execution_count": null,
   "metadata": {},
   "outputs": [],
   "source": [
    "clustering = SpectralClustering(\n",
    "    n_clusters=2,\n",
    "    affinity=\"precomputed\",\n",
    "    assign_labels=\"discretize\"\n",
    ").fit(affinity)\n",
    "\n",
    "clustering.labels_"
   ]
  },
  {
   "cell_type": "markdown",
   "metadata": {},
   "source": [
    "## Spectral gap of Laplacian matrix"
   ]
  },
  {
   "cell_type": "code",
   "execution_count": null,
   "metadata": {},
   "outputs": [],
   "source": [
    "def laplacian_evals(mat):\n",
    "    diag = np.diagonal(mat)\n",
    "    off_diag = mat - np.diagflat(diag)\n",
    "    affinity = np.nan_to_num(off_diag * np.reciprocal(np.abs(diag[:, None] - diag)))\n",
    "    # affinity = affinity / np.linalg.norm(affinity)\n",
    "    degree_mat = np.diagflat(np.sum(affinity, axis=0))\n",
    "    laplacian = degree_mat - affinity\n",
    "    lap_evals, lap_evecs = np.linalg.eigh(laplacian)\n",
    "    return lap_evals, lap_evecs\n",
    "\n",
    "round_off_error = 1e-12\n",
    "\n",
    "hs = np.linspace(1e-3, 20, 100)\n",
    "seeds = np.arange(1000, 1020)\n",
    "df = pd.DataFrame(columns=[\"h\", \"seed\", \"n_zeros\", \"spectral_gap\", \"fiedler_value\", \"fiedler_flips\", \"n_spanning_tree\"])\n",
    "for idx, (h, seed) in enumerate(product(hs, seeds)):\n",
    "    model = RandomHeisenberg(n=system_size, jt=1, jz=1, h=h, seed=seed)\n",
    "    reduced_mat = proj.T @ FullHamiltonian(model.mpo).matrix @ proj\n",
    "    _lap_evals, _lap_evecs = laplacian_evals(reduced_mat)\n",
    "    asign = np.sign(_lap_evecs[:, 1])\n",
    "    signchange = ((np.roll(asign, 1) - asign) != 0).astype(int)\n",
    "    df.loc[idx] = [\n",
    "        h,\n",
    "        seed,\n",
    "        len(_lap_evals[_lap_evals < round_off_error]),\n",
    "        _lap_evals[_lap_evals > round_off_error][0],\n",
    "        _lap_evals[_lap_evals > round_off_error][1],\n",
    "        np.sum(signchange),\n",
    "        1/len(_lap_evals) * np.prod(_lap_evals[_lap_evals > round_off_error])\n",
    "    ]"
   ]
  },
  {
   "cell_type": "code",
   "execution_count": null,
   "metadata": {},
   "outputs": [],
   "source": [
    "df = df.groupby([\"h\"], as_index=False).mean()\n",
    "\n",
    "fig = px.line(df, x=\"h\", y=\"n_zeros\", markers=True)\n",
    "fig.show()\n",
    "fig = px.line(df, x=\"h\", y=\"spectral_gap\", markers=True)\n",
    "fig.show()\n",
    "fig = px.line(df, x=\"h\", y=\"fiedler_value\", markers=True)\n",
    "fig.show()\n",
    "fig = px.line(df, x=\"h\", y=\"fiedler_flips\", markers=True)\n",
    "fig.show()\n",
    "fig = px.line(df, x=\"h\", y=\"n_spanning_tree\", markers=True, log_y=True)\n",
    "fig.show()"
   ]
  },
  {
   "cell_type": "markdown",
   "metadata": {},
   "source": [
    "**Note**: the Laplacian gap corresponding to h = 0 seems to be the Golden angle ??"
   ]
  },
  {
   "cell_type": "markdown",
   "metadata": {},
   "source": [
    "### Test gap ratio"
   ]
  },
  {
   "cell_type": "code",
   "execution_count": null,
   "metadata": {},
   "outputs": [],
   "source": [
    "def gap_ratio(evals):\n",
    "    gap = np.diff(evals)\n",
    "    next_gap = np.roll(gap, -1)\n",
    "    return np.minimum(gap / next_gap, next_gap / gap)\n",
    "\n",
    "avg_gap_ratios = []\n",
    "for h in hs:\n",
    "    model = RandomHeisenberg(n=system_size, jt=1, jz=1, h=h, seed=2023)\n",
    "    reduced_mat = proj.T @ FullHamiltonian(model.mpo).matrix @ proj\n",
    "    evals, evecs = np.linalg.eigh(reduced_mat)\n",
    "    avg_gap_ratios.append(np.mean(gap_ratio(evals)))\n",
    "\n",
    "\n",
    "fig = px.line(x=hs, y=avg_gap_ratios, markers=True)\n",
    "fig.show()"
   ]
  },
  {
   "cell_type": "markdown",
   "metadata": {},
   "source": [
    "### Test numpy random state"
   ]
  },
  {
   "cell_type": "code",
   "execution_count": null,
   "metadata": {},
   "outputs": [],
   "source": [
    "rng = np.random.RandomState(seed=2000)\n",
    "print(rng.uniform(-1, 1, size=4))\n",
    "\n",
    "rng = np.random.RandomState(seed=2000)\n",
    "print(rng.uniform(-2, 2, size=4))"
   ]
  },
  {
   "cell_type": "markdown",
   "metadata": {},
   "source": [
    "## Harmonic Rayleigh-Ritz"
   ]
  },
  {
   "cell_type": "code",
   "execution_count": null,
   "metadata": {},
   "outputs": [],
   "source": [
    "zero_charge_basis = [\n",
    "    [u, u, d, d],\n",
    "    [u, d, u, d],\n",
    "    [u, d, d, u],\n",
    "    [d, u, u, d],\n",
    "    [d, u, d, u],\n",
    "    [d, d, u, u]\n",
    "]\n",
    "\n",
    "proj = np.hstack(tuple(map(np.transpose, tuple(map(kron_product, zero_charge_basis)))))\n",
    "\n",
    "shift = 16\n",
    "shifted_mat = ed.matrix - shift * np.eye(len(ed.matrix))\n",
    "evals, evecs = eigh(a=proj.T @ shifted_mat @ proj, b=proj.T @ np.linalg.matrix_power(shifted_mat, 2) @ proj)\n",
    "\n",
    "evals = shift + np.reciprocal(evals)\n",
    "evecs = shifted_mat @ proj @ evecs\n",
    "residual_vec = np.stack([(ed.matrix - eval * np.eye(len(ed.matrix))) @ evecs[:, idx] for idx, eval in enumerate(evals)], axis=1)\n",
    "\n",
    "print(evals, \"\\n\")\n",
    "print(evecs, \"\\n\")\n",
    "print(residual_vec, \"\\n\")\n",
    "print(np.linalg.norm(residual_vec, axis=0), \"\\n\")"
   ]
  },
  {
   "cell_type": "markdown",
   "metadata": {},
   "source": [
    "## Test against transverse Ising model"
   ]
  },
  {
   "cell_type": "code",
   "execution_count": null,
   "metadata": {},
   "outputs": [],
   "source": [
    "class TransverseIsing(Model1D):\n",
    "    def __init__(self, n, j, h):\n",
    "        r\"\"\"\n",
    "\n",
    "        .. math::\n",
    "\n",
    "            H = -j \\left( \\sum_{i=0}^{N-1} S_{i+1}^z S_i^z + h S_i^x \\right)\n",
    "\n",
    "        Args:\n",
    "            n: System size.\n",
    "            j: Overall prefactor of energy.\n",
    "            h: The coupling strength of transversed field.\n",
    "        \"\"\"\n",
    "        super().__init__(n)\n",
    "        self._j = j\n",
    "        self._h = h\n",
    "\n",
    "    @property\n",
    "    def j(self):\n",
    "        return self._j\n",
    "\n",
    "    @property\n",
    "    def h(self):\n",
    "        return self._h\n",
    "\n",
    "    @boundary_vectors(row=0, col=-1)\n",
    "    def _elem(self, site: int) -> np.ndarray:\n",
    "        Sp, Sm, Sz, I2, O2 = SpinOperators()\n",
    "        Sx = Sp + Sm\n",
    "        return np.array(\n",
    "            [[I2, -self.j * Sz, -self.j * self.h * Sx], [O2, O2, Sz], [O2, O2, I2]],\n",
    "            dtype=float,\n",
    "        )"
   ]
  },
  {
   "cell_type": "code",
   "execution_count": null,
   "metadata": {},
   "outputs": [],
   "source": [
    "model = TransverseIsing(n=4, j=1, h=0.5)\n",
    "ed = ExactDiagonalization(model.mpo)\n",
    "\n",
    "print(ed.evals, \"\\n\")\n",
    "print(ed.evecs , \"\\n\")\n",
    "\n",
    "plt.matshow(ed.matrix)\n",
    "plt.colorbar()"
   ]
  },
  {
   "cell_type": "code",
   "execution_count": null,
   "metadata": {},
   "outputs": [],
   "source": [
    "graph = nx.from_numpy_array(ed.matrix)\n",
    "nx.draw(graph, with_labels=True)"
   ]
  },
  {
   "cell_type": "code",
   "execution_count": null,
   "metadata": {},
   "outputs": [],
   "source": [
    "diag = np.diagonal(ed.matrix)\n",
    "affinity = np.reciprocal(ed.matrix)\n",
    "affinity[affinity == np.inf] = 0\n",
    "np.fill_diagonal(affinity, 0)\n",
    "\n",
    "plt.matshow(affinity)\n",
    "plt.colorbar()"
   ]
  },
  {
   "cell_type": "code",
   "execution_count": null,
   "metadata": {},
   "outputs": [],
   "source": [
    "diag = np.diagonal(ed.matrix)\n",
    "off_diag = ed.matrix - np.diagflat(diag)\n",
    "affinity = np.abs(off_diag) * np.reciprocal(np.abs(diag[:, None] - diag))\n",
    "# affinity[np.nonzero(off_diag)] *= model.h\n",
    "# affinity[np.where(off_diag == 0)] = 0\n",
    "# affinity_evals, affinity_evecs = np.linalg.eigh(affinity)\n",
    "\n",
    "# affinity = np.abs(np.linalg.inv(ed.matrix))\n",
    "# affinity[affinity == np.inf] = 0\n",
    "# affinity[affinity == -np.inf] = 0\n",
    "# affinity = np.nan_to_num(affinity)\n",
    "# np.fill_diagonal(affinity, 0)\n",
    "print(affinity)\n",
    "\n",
    "degree_mat = np.diagflat(np.sum(affinity, axis=0))\n",
    "laplacian = degree_mat - affinity\n",
    "lap_evals, lap_evecs = np.linalg.eigh(laplacian)\n",
    "\n",
    "plt.matshow(affinity)\n",
    "plt.colorbar()\n",
    "plt.matshow(laplacian)\n",
    "plt.colorbar()"
   ]
  },
  {
   "cell_type": "code",
   "execution_count": null,
   "metadata": {},
   "outputs": [],
   "source": [
    "graph = nx.from_numpy_array(ed.matrix)\n",
    "nx.draw(graph, with_labels=True)"
   ]
  },
  {
   "cell_type": "code",
   "execution_count": null,
   "metadata": {},
   "outputs": [],
   "source": [
    "graph = nx.from_numpy_array(np.nan_to_num(affinity))\n",
    "nx.draw(graph, with_labels=True)"
   ]
  },
  {
   "cell_type": "code",
   "execution_count": null,
   "metadata": {},
   "outputs": [],
   "source": [
    "print(ed.evals, \"\\n\")\n",
    "print(ed.evecs, \"\\n\")\n",
    "print(lap_evals, \"\\n\")\n",
    "print(lap_evecs, \"\\n\")"
   ]
  },
  {
   "cell_type": "code",
   "execution_count": null,
   "metadata": {},
   "outputs": [],
   "source": [
    "hs = np.linspace(-2, 2, 100)\n",
    "round_off_error = 1e-12\n",
    "\n",
    "laplacian_gap = []\n",
    "ns_spanning_tree = []\n",
    "for h in hs:\n",
    "    model = TransverseIsing(n=4, j=1, h=h)\n",
    "    ed = ExactDiagonalization(model.mpo)\n",
    "    # affinity = np.abs(np.linalg.inv(-ed.matrix))\n",
    "    # np.fill_diagonal(affinity, 0)\n",
    "\n",
    "    diag = np.diagonal(ed.matrix)\n",
    "    off_diag = ed.matrix - np.diagflat(diag)\n",
    "    affinity = np.reciprocal(np.abs(diag[:, None] - diag))\n",
    "\n",
    "    affinity[np.nonzero(off_diag)] *= model.h\n",
    "    affinity[np.where(off_diag == 0)] = 0\n",
    "    affinity[affinity == np.inf] = 0\n",
    "    affinity[affinity == -np.inf] = 0\n",
    "    # affinity = np.nan_to_num(affinity)\n",
    "\n",
    "    degree_mat = np.diagflat(np.sum(affinity, axis=0))\n",
    "    laplacian = degree_mat - affinity\n",
    "    lap_evals, lap_evecs = np.linalg.eigh(np.nan_to_num(laplacian))\n",
    "    laplacian_gap.append(lap_evals[lap_evals > round_off_error][0])\n",
    "    n_spanning_tree = 1/len(lap_evals) * np.prod(lap_evals[lap_evals > round_off_error])\n",
    "    ns_spanning_tree.append(n_spanning_tree)\n",
    "\n",
    "fig = px.line(x=hs, y=laplacian_gap, markers=True)\n",
    "fig.show()\n",
    "fig = px.line(x=hs, y=ns_spanning_tree, markers=True, log_y=True)\n",
    "fig.show()"
   ]
  },
  {
   "cell_type": "code",
   "execution_count": null,
   "metadata": {},
   "outputs": [],
   "source": []
  }
 ],
 "metadata": {
  "kernelspec": {
   "display_name": "Python 3.9.12 ('mbl-ZAKfH7AG-py3.9')",
   "language": "python",
   "name": "python3"
  },
  "language_info": {
   "codemirror_mode": {
    "name": "ipython",
    "version": 3
   },
   "file_extension": ".py",
   "mimetype": "text/x-python",
   "name": "python",
   "nbconvert_exporter": "python",
   "pygments_lexer": "ipython3",
   "version": "3.9.12"
  },
  "orig_nbformat": 4,
  "vscode": {
   "interpreter": {
    "hash": "24c32a6b6835f93024057ab91437b1443f96cd0c41973013e947a12b19a4ad0a"
   }
  }
 },
 "nbformat": 4,
 "nbformat_minor": 2
}
